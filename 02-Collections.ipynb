{
  "cells": [
    {
      "cell_type": "markdown",
      "metadata": {
        "id": "1kXfxQnMQVok"
      },
      "source": [
        "# Más sobre colecciones"
      ]
    },
    {
      "cell_type": "markdown",
      "metadata": {
        "id": "4yvQ0tS2QVom"
      },
      "source": [
        "## Deque: Usando listas como colas\n",
        "\n",
        "También es posible usar una lista como cola, donde el primer elemento agregado es el primer elemento recuperado (\"primero en entrar, primero en salir\"). Sin embargo, las listas no son eficientes para este propósito. Si bien las inserciones y extracciones al final de la lista son rápidas, hacer inserciones o extracciones desde el comienzo de una lista es lento, porque todos los otros elementos deben desplazarse un lugar.\n",
        "\n",
        "Para implementar una cola, se debe usar **collections.deque** que está diseñado para permitir inserciones y extracciones rápidas desde ambos extremos."
      ]
    },
    {
      "cell_type": "code",
      "execution_count": 1,
      "metadata": {
        "id": "NvCIX8eNQVon",
        "outputId": "f1ff3360-0c37-4735-d00a-3cf0f1440337",
        "colab": {
          "base_uri": "https://localhost:8080/"
        }
      },
      "outputs": [
        {
          "output_type": "stream",
          "name": "stdout",
          "text": [
            "deque(['Eric', 'John', 'Michael', 'Terry', 'Graham'])\n",
            "deque(['John', 'Michael', 'Terry', 'Graham'])\n",
            "deque(['Michael', 'Terry', 'Graham'])\n"
          ]
        }
      ],
      "source": [
        "from collections import deque\n",
        "queue = deque([\"Eric\", \"John\", \"Michael\"])\n",
        "queue.append(\"Terry\")           # Terry arrives\n",
        "queue.append(\"Graham\")          # Graham arrives\n",
        "print(queue)\n",
        "queue.popleft()                 # The first to arrive now leaves\n",
        "print(queue)\n",
        "queue.popleft()                 # The second to arrive now leaves\n",
        "print(queue)                           # Remaining queue in order of arrival"
      ]
    },
    {
      "cell_type": "markdown",
      "metadata": {
        "id": "xDTQRq3wQVop"
      },
      "source": [
        "## OrderedDict\n",
        "\n",
        "Los diccionarios ordenados son como los diccionarios regulares, pero recuerdan el orden en que se insertaron los elementos. Al iterar sobre un diccionario ordenado, los elementos se devuelven en el orden en que se agregaron sus claves por primera vez."
      ]
    },
    {
      "cell_type": "code",
      "execution_count": 2,
      "metadata": {
        "id": "iAlsS5zwQVoq",
        "outputId": "3ffe1a33-9b62-4204-efda-e5c064ee6fbd",
        "colab": {
          "base_uri": "https://localhost:8080/"
        }
      },
      "outputs": [
        {
          "output_type": "execute_result",
          "data": {
            "text/plain": [
              "OrderedDict([('pear', 1), ('apple', 4), ('orange', 2), ('banana', 3)])"
            ]
          },
          "metadata": {},
          "execution_count": 2
        }
      ],
      "source": [
        "from collections import *\n",
        "\n",
        "# regular unsorted dictionary\n",
        "d = {'banana': 3, 'apple': 4, 'pear': 1, 'orange': 2}\n",
        "\n",
        "# dictionary sorted by key\n",
        "OrderedDict(sorted(d.items(), key=lambda t: t[0])) #función anomina donde t \n",
        "#como estamos ordenando por el orden dl alfabeto no tiene sentido poner un menos\n",
        "OrderedDict([('apple', 4), ('banana', 3), ('orange', 2), ('pear', 1)])\n",
        "\n",
        "# dictionary sorted by value\n",
        "OrderedDict(sorted(d.items(), key=lambda t: t[1])) #ordenando por el segundo elemento de los items que en este caso es por el numero \n",
        "#si ponemos un menos lo ordenamos de forma descenciente y aqui si tiene sentido \n",
        "OrderedDict([('pear', 1), ('orange', 2), ('banana', 3), ('apple', 4)])\n",
        "\n",
        "# dictionary sorted by length of the key string\n",
        "OrderedDict(sorted(d.items(), key=lambda t: len(t[0])))\n",
        "#como estamos ordenadno  por la longitud , aqui tambien tendria sentido poner el menos \n",
        "OrderedDict([('pear', 1), ('apple', 4), ('orange', 2), ('banana', 3)])"
      ]
    },
    {
      "cell_type": "markdown",
      "metadata": {
        "collapsed": true,
        "id": "6NUB-af8QVor"
      },
      "source": [
        "## Set\n",
        "\n",
        "Los conjuntos (sets) son listas sin duplicados. Por ejemplo, si quisiéramos extraer de una cadena de texto todas las palabras distintas, podríamos hacer lo siguiente:\n",
        "\n",
        "***###util para controlar los centroices en un k medias ,para que no se repitan*** "
      ]
    },
    {
      "cell_type": "code",
      "execution_count": 3,
      "metadata": {
        "id": "XP4nVM8HQVor",
        "outputId": "cdb2e810-8c60-4ab3-ce00-ed1194b53852",
        "colab": {
          "base_uri": "https://localhost:8080/"
        }
      },
      "outputs": [
        {
          "output_type": "stream",
          "name": "stdout",
          "text": [
            "['tanto', 'monta', 'monta', 'tanto']\n",
            "{'monta', 'tanto'}\n"
          ]
        }
      ],
      "source": [
        "texto = \"tanto monta monta tanto\".split()\n",
        "print(texto)\n",
        "print(set(texto))"
      ]
    },
    {
      "cell_type": "markdown",
      "metadata": {
        "id": "DS04u3FmQVos"
      },
      "source": [
        "Además, podemos operar sobre los conjuntos creando uniones, intersecciones o diferencias."
      ]
    },
    {
      "cell_type": "code",
      "execution_count": null,
      "metadata": {
        "id": "eYuabGXEQVos",
        "outputId": "420d4ea9-304f-4f29-ed13-692be0819bcb"
      },
      "outputs": [
        {
          "name": "stdout",
          "output_type": "stream",
          "text": [
            "{1, 2, 3, 4, 5, 6, 7}\n",
            "{3, 4, 5}\n",
            "{1, 2}\n"
          ]
        }
      ],
      "source": [
        "s1 = set([1,2,3,4,5])\n",
        "s2 = set([3,4,5,6,7])\n",
        "print(s1.union(s2))\n",
        "print(s1.intersection(s2))\n",
        "print(s1.difference(s2))"
      ]
    },
    {
      "cell_type": "code",
      "execution_count": null,
      "metadata": {
        "collapsed": true,
        "id": "vnbnBs1vQVot"
      },
      "outputs": [],
      "source": []
    }
  ],
  "metadata": {
    "kernelspec": {
      "display_name": "Python 3",
      "language": "python",
      "name": "python3"
    },
    "language_info": {
      "codemirror_mode": {
        "name": "ipython",
        "version": 3
      },
      "file_extension": ".py",
      "mimetype": "text/x-python",
      "name": "python",
      "nbconvert_exporter": "python",
      "pygments_lexer": "ipython3",
      "version": "3.6.5"
    },
    "colab": {
      "name": "02-Collections.ipynb",
      "provenance": []
    }
  },
  "nbformat": 4,
  "nbformat_minor": 0
}